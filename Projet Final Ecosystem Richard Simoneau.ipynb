{
 "cells": [
  {
   "cell_type": "code",
   "execution_count": 1,
   "id": "f38adf9a",
   "metadata": {},
   "outputs": [],
   "source": [
    "import matplotlib as plt\n",
    "import pandas as pd\n",
    "import numpy as np\n",
    "import pickle\n",
    "\n",
    "from sklearn.model_selection import train_test_split\n",
    "from sklearn.linear_model import LogisticRegression\n",
    "from sklearn.metrics import accuracy_score, precision_score, recall_score, f1_score\n"
   ]
  },
  {
   "cell_type": "code",
   "execution_count": 2,
   "id": "092c90c8",
   "metadata": {},
   "outputs": [
    {
     "name": "stdout",
     "output_type": "stream",
     "text": [
      "<class 'pandas.core.frame.DataFrame'>\n",
      "RangeIndex: 319795 entries, 0 to 319794\n",
      "Data columns (total 18 columns):\n",
      " #   Column            Non-Null Count   Dtype  \n",
      "---  ------            --------------   -----  \n",
      " 0   HeartDisease      319795 non-null  object \n",
      " 1   BMI               319795 non-null  float64\n",
      " 2   Smoking           319795 non-null  object \n",
      " 3   AlcoholDrinking   319795 non-null  object \n",
      " 4   Stroke            319795 non-null  object \n",
      " 5   PhysicalHealth    319795 non-null  float64\n",
      " 6   MentalHealth      319795 non-null  float64\n",
      " 7   DiffWalking       319795 non-null  object \n",
      " 8   Sex               319795 non-null  object \n",
      " 9   AgeCategory       319795 non-null  object \n",
      " 10  Race              319795 non-null  object \n",
      " 11  Diabetic          319795 non-null  object \n",
      " 12  PhysicalActivity  319795 non-null  object \n",
      " 13  GenHealth         319795 non-null  object \n",
      " 14  SleepTime         319795 non-null  float64\n",
      " 15  Asthma            319795 non-null  object \n",
      " 16  KidneyDisease     319795 non-null  object \n",
      " 17  SkinCancer        319795 non-null  object \n",
      "dtypes: float64(4), object(14)\n",
      "memory usage: 43.9+ MB\n"
     ]
    }
   ],
   "source": [
    "pd_Data = pd.read_csv(\"heart_2020_cleaned.csv\")\n",
    "pd_Data.info()"
   ]
  },
  {
   "cell_type": "markdown",
   "id": "643aeee3",
   "metadata": {},
   "source": [
    "- HeartDisease = Bool\n",
    "- BMI = Float\n",
    "- Smoking = Bool\n",
    "- AlcoholDrinking = Bool\n",
    "- Stroke = Bool\n",
    "- PhysicalHealt = Float\n",
    "- MentalHealth = Float\n",
    "- DiffWalking = Bool\n",
    "- Sex = Catégorique\n",
    "- AgeCategory = Catégorique\n",
    "- Race = Catégorique\n",
    "- Diabetic = Bool\n",
    "- PhysicalActivity = Bool\n",
    "- GenHealth = Catégorique\n",
    "- SleepTime = Float\n",
    "- Asthme = Bool\n",
    "- KidneyDisease = Bool\n",
    "- SkinCancer = Bool\n"
   ]
  },
  {
   "cell_type": "code",
   "execution_count": 3,
   "id": "afa95dc4",
   "metadata": {},
   "outputs": [
    {
     "data": {
      "text/plain": [
       "<bound method NDFrame.head of        HeartDisease    BMI Smoking AlcoholDrinking Stroke  PhysicalHealth  \\\n",
       "0                No  16.60     Yes              No     No             3.0   \n",
       "1                No  20.34      No              No    Yes             0.0   \n",
       "2                No  26.58     Yes              No     No            20.0   \n",
       "3                No  24.21      No              No     No             0.0   \n",
       "4                No  23.71      No              No     No            28.0   \n",
       "...             ...    ...     ...             ...    ...             ...   \n",
       "319790          Yes  27.41     Yes              No     No             7.0   \n",
       "319791           No  29.84     Yes              No     No             0.0   \n",
       "319792           No  24.24      No              No     No             0.0   \n",
       "319793           No  32.81      No              No     No             0.0   \n",
       "319794           No  46.56      No              No     No             0.0   \n",
       "\n",
       "        MentalHealth DiffWalking     Sex  AgeCategory      Race Diabetic  \\\n",
       "0               30.0          No  Female        55-59     White      Yes   \n",
       "1                0.0          No  Female  80 or older     White       No   \n",
       "2               30.0          No    Male        65-69     White      Yes   \n",
       "3                0.0          No  Female        75-79     White       No   \n",
       "4                0.0         Yes  Female        40-44     White       No   \n",
       "...              ...         ...     ...          ...       ...      ...   \n",
       "319790           0.0         Yes    Male        60-64  Hispanic      Yes   \n",
       "319791           0.0          No    Male        35-39  Hispanic       No   \n",
       "319792           0.0          No  Female        45-49  Hispanic       No   \n",
       "319793           0.0          No  Female        25-29  Hispanic       No   \n",
       "319794           0.0          No  Female  80 or older  Hispanic       No   \n",
       "\n",
       "       PhysicalActivity  GenHealth  SleepTime Asthma KidneyDisease SkinCancer  \n",
       "0                   Yes  Very good        5.0    Yes            No        Yes  \n",
       "1                   Yes  Very good        7.0     No            No         No  \n",
       "2                   Yes       Fair        8.0    Yes            No         No  \n",
       "3                    No       Good        6.0     No            No        Yes  \n",
       "4                   Yes  Very good        8.0     No            No         No  \n",
       "...                 ...        ...        ...    ...           ...        ...  \n",
       "319790               No       Fair        6.0    Yes            No         No  \n",
       "319791              Yes  Very good        5.0    Yes            No         No  \n",
       "319792              Yes       Good        6.0     No            No         No  \n",
       "319793               No       Good       12.0     No            No         No  \n",
       "319794              Yes       Good        8.0     No            No         No  \n",
       "\n",
       "[319795 rows x 18 columns]>"
      ]
     },
     "execution_count": 3,
     "metadata": {},
     "output_type": "execute_result"
    }
   ],
   "source": [
    "pd_Data.head"
   ]
  },
  {
   "cell_type": "code",
   "execution_count": 4,
   "id": "8759131e",
   "metadata": {},
   "outputs": [
    {
     "data": {
      "text/plain": [
       "HeartDisease        0\n",
       "BMI                 0\n",
       "Smoking             0\n",
       "AlcoholDrinking     0\n",
       "Stroke              0\n",
       "PhysicalHealth      0\n",
       "MentalHealth        0\n",
       "DiffWalking         0\n",
       "Sex                 0\n",
       "AgeCategory         0\n",
       "Race                0\n",
       "Diabetic            0\n",
       "PhysicalActivity    0\n",
       "GenHealth           0\n",
       "SleepTime           0\n",
       "Asthma              0\n",
       "KidneyDisease       0\n",
       "SkinCancer          0\n",
       "dtype: int64"
      ]
     },
     "execution_count": 4,
     "metadata": {},
     "output_type": "execute_result"
    }
   ],
   "source": [
    "pd_Data.isnull().sum()"
   ]
  },
  {
   "cell_type": "markdown",
   "id": "83ab1c3e",
   "metadata": {},
   "source": [
    "- Changer les Bool, Yes/No par 1/0\n",
    "- Encoding les catégorique : Sex, AgeCategory, Race, GenHealth\n",
    "- Normaliser les Floats : BMI, PhysicalHealth, MentalHealth, SleepTime"
   ]
  },
  {
   "cell_type": "markdown",
   "id": "d252ee53",
   "metadata": {},
   "source": [
    "# Transformer les Variables booléenne de \"Yes/No\" à 1 et 0."
   ]
  },
  {
   "cell_type": "code",
   "execution_count": 5,
   "id": "e58aad39",
   "metadata": {},
   "outputs": [],
   "source": [
    "V_bool = ['HeartDisease', 'Smoking', 'AlcoholDrinking', 'Stroke', 'DiffWalking', 'Diabetic', 'PhysicalActivity', 'Asthma', 'KidneyDisease', 'SkinCancer']\n",
    "\n",
    "for cat in V_bool:\n",
    "    pd_Data[cat] = np.where(pd_Data[cat] == 'Yes', 1, 0)\n"
   ]
  },
  {
   "cell_type": "markdown",
   "id": "7834067c",
   "metadata": {},
   "source": [
    "# Normaliser les variable numériques"
   ]
  },
  {
   "cell_type": "code",
   "execution_count": 6,
   "id": "8075b196",
   "metadata": {},
   "outputs": [],
   "source": [
    "for df in ['BMI', 'PhysicalHealth', 'MentalHealth', 'SleepTime']:\n",
    "    pd_Data[df] = (pd_Data[df] - pd_Data[df].min()) / (pd_Data[df].max() - pd_Data[df].min())"
   ]
  },
  {
   "cell_type": "markdown",
   "id": "dc4bf005",
   "metadata": {},
   "source": [
    "# Encoder les variables Catégoriques"
   ]
  },
  {
   "cell_type": "code",
   "execution_count": null,
   "id": "063e489b",
   "metadata": {},
   "outputs": [],
   "source": [
    "# J'ai essayé de les faire d'un coup avec une liste, mais sans succès; donc je les fait une par une.\n",
    "pd_Data_Encoded = pd.get_dummies(pd_Data, columns=['Sex'], drop_first=True)\n",
    "pd_Data_Encoded = pd.get_dummies(pd_Data_Encoded, columns=['AgeCategory'])\n",
    "pd_Data_Encoded = pd.get_dummies(pd_Data_Encoded, columns=['GenHealth'])\n",
    "pd_Data_Encoded = pd.get_dummies(pd_Data_Encoded, columns=['Race'])\n",
    "#print(pd_Data_Encoded.columns)\n",
    "#print(pd_Data_Encoded.head)"
   ]
  },
  {
   "cell_type": "markdown",
   "id": "1d5dc99a",
   "metadata": {},
   "source": [
    "# Séparer les données en Train et Test et les étiquettes"
   ]
  },
  {
   "cell_type": "code",
   "execution_count": null,
   "id": "b4c7cb02",
   "metadata": {},
   "outputs": [
    {
     "data": {
      "text/plain": [
       "((255836, 38), (63959, 38))"
      ]
     },
     "execution_count": 11,
     "metadata": {},
     "output_type": "execute_result"
    }
   ],
   "source": [
    "\n",
    "X_train, X_test, y_train, y_test = train_test_split(\n",
    "    pd_Data_Encoded.drop(['HeartDisease'], axis=1),\n",
    "    pd_Data_Encoded['HeartDisease'], # the target\n",
    "    test_size = 0.2,\n",
    "    random_state=42)\n",
    "\n",
    "# sauvegarder les données transformés\n",
    "X_train.to_csv(\"heart_X_train.csv\")\n",
    "X_test.to_csv(\"heart_X_test.csv\")\n",
    "y_train.to_csv(\"heart_y_train.csv\")\n",
    "y_test.to_csv(\"heart_y_test.csv\")\n",
    "\n",
    "# Validation de la séparation.\n",
    "X_train.shape, X_test.shape"
   ]
  },
  {
   "cell_type": "markdown",
   "id": "018c9a71",
   "metadata": {},
   "source": [
    "# Entrainer le model"
   ]
  },
  {
   "cell_type": "code",
   "execution_count": 9,
   "id": "e4aea5f6",
   "metadata": {},
   "outputs": [
    {
     "name": "stdout",
     "output_type": "stream",
     "text": [
      "Accuracy_score: 0.9138197908034835\n",
      "Precission_score: 0.5384615384615384\n",
      "Recall_score: 0.10014306151645208\n",
      "F1-score: 0.16887816646562123\n"
     ]
    }
   ],
   "source": [
    "HD_model = LogisticRegression()\n",
    "\n",
    "HD_model.fit(X_train, y_train)\n",
    "y_pred = HD_model.predict(X_test)\n",
    "\n",
    "print(f'Accuracy_score: {accuracy_score(y_test,y_pred)}')\n",
    "print(f'Precission_score: {precision_score(y_test,y_pred)}')\n",
    "print(f'Recall_score: {recall_score(y_test,y_pred)}')\n",
    "print(f'F1-score: {f1_score(y_test,y_pred)}')"
   ]
  },
  {
   "cell_type": "markdown",
   "id": "c8a864b5",
   "metadata": {},
   "source": [
    "# Sauvegarder le model"
   ]
  },
  {
   "cell_type": "code",
   "execution_count": 10,
   "id": "a22142c2",
   "metadata": {},
   "outputs": [],
   "source": [
    "pickle.dump(HD_model, open(\"HeartDisease.h5\", \"wb\"))"
   ]
  }
 ],
 "metadata": {
  "kernelspec": {
   "display_name": "Python 3",
   "language": "python",
   "name": "python3"
  },
  "language_info": {
   "codemirror_mode": {
    "name": "ipython",
    "version": 3
   },
   "file_extension": ".py",
   "mimetype": "text/x-python",
   "name": "python",
   "nbconvert_exporter": "python",
   "pygments_lexer": "ipython3",
   "version": "3.12.9"
  }
 },
 "nbformat": 4,
 "nbformat_minor": 5
}
